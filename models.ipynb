{
 "cells": [
  {
   "cell_type": "code",
   "execution_count": null,
   "id": "d964055a",
   "metadata": {
    "_cell_guid": "b1076dfc-b9ad-4769-8c92-a6c4dae69d19",
    "_uuid": "8f2839f25d086af736a60e9eeb907d3b93b6e0e5",
    "execution": {
     "iopub.execute_input": "2023-05-23T10:03:27.164975Z",
     "iopub.status.busy": "2023-05-23T10:03:27.164525Z",
     "iopub.status.idle": "2023-05-23T10:03:29.228470Z",
     "shell.execute_reply": "2023-05-23T10:03:29.227310Z"
    },
    "papermill": {
     "duration": 2.076248,
     "end_time": "2023-05-23T10:03:29.231057",
     "exception": false,
     "start_time": "2023-05-23T10:03:27.154809",
     "status": "completed"
    },
    "tags": []
   },
   "outputs": [],
   "source": [
    "import numpy as np\n",
    "import pandas as pd\n",
    "import seaborn as sns\n",
    "import matplotlib.pyplot as plt\n",
    "from sklearn.preprocessing import StandardScaler\n",
    "from sklearn.model_selection import train_test_split\n",
    "from sklearn import svm\n",
    "from sklearn.metrics import accuracy_score\n",
    "from sklearn.ensemble import RandomForestClassifier"
   ]
  },
  {
   "cell_type": "code",
   "execution_count": null,
   "id": "c2ee03f8",
   "metadata": {
    "execution": {
     "iopub.execute_input": "2023-05-23T10:03:29.248550Z",
     "iopub.status.busy": "2023-05-23T10:03:29.248114Z",
     "iopub.status.idle": "2023-05-23T10:03:29.298803Z",
     "shell.execute_reply": "2023-05-23T10:03:29.297700Z"
    },
    "papermill": {
     "duration": 0.062259,
     "end_time": "2023-05-23T10:03:29.301293",
     "exception": false,
     "start_time": "2023-05-23T10:03:29.239034",
     "status": "completed"
    },
    "tags": []
   },
   "outputs": [
    {
     "name": "stdout",
     "output_type": "stream",
     "text": [
      "     openness_1  conscientiousness_1  extroversion_1  agreeableness_1   \n",
      "0          4.33                 3.67            4.33             5.67  \\\n",
      "1          3.00                 4.67            4.00             3.00   \n",
      "2          3.00                 3.67            3.33             3.33   \n",
      "3          5.00                 5.00            5.00             7.00   \n",
      "4          1.33                 2.67            2.67             3.33   \n",
      "..          ...                  ...             ...              ...   \n",
      "196        3.67                 5.00            3.00             3.67   \n",
      "197        4.00                 3.67            4.33             3.67   \n",
      "198        1.67                 3.00            3.00             3.33   \n",
      "199        2.00                 3.33            3.33             3.33   \n",
      "200        3.00                 3.67            6.33             5.00   \n",
      "\n",
      "     neuroticism_1  anxietybasedperformancedeficits_1   \n",
      "0             3.67                               2.29  \\\n",
      "1             5.00                               2.43   \n",
      "2             3.00                               2.14   \n",
      "3             1.00                               3.43   \n",
      "4             2.67                               1.43   \n",
      "..             ...                                ...   \n",
      "196           5.33                               4.86   \n",
      "197           3.33                               3.29   \n",
      "198           3.00                               1.71   \n",
      "199           3.33                               2.14   \n",
      "200           2.67                               4.57   \n",
      "\n",
      "     exaggeratedsafetybehavior_1  hostilebehaviors_1  Gender_1  Age_1   \n",
      "0                           4.29                3.71         1      1  \\\n",
      "1                           5.14                6.14         2      2   \n",
      "2                           2.71                2.86         2      1   \n",
      "3                           3.57                4.43         1      1   \n",
      "4                           1.43                1.57         1      1   \n",
      "..                           ...                 ...       ...    ...   \n",
      "196                         4.00                4.14         1      1   \n",
      "197                         3.71                4.43         2      1   \n",
      "198                         1.86                2.57         2      1   \n",
      "199                         2.00                1.86         1      3   \n",
      "200                         3.71                3.57         1      1   \n",
      "\n",
      "     violations_1  \n",
      "0               2  \n",
      "1               2  \n",
      "2               1  \n",
      "3               1  \n",
      "4               1  \n",
      "..            ...  \n",
      "196             2  \n",
      "197             2  \n",
      "198             2  \n",
      "199             2  \n",
      "200             2  \n",
      "\n",
      "[201 rows x 11 columns]\n"
     ]
    }
   ],
   "source": [
    "dataset = pd.read_csv('data_new.csv')\n",
    "print(dataset)"
   ]
  },
  {
   "cell_type": "code",
   "execution_count": null,
   "id": "d1d349b0",
   "metadata": {
    "execution": {
     "iopub.execute_input": "2023-05-23T10:03:29.318869Z",
     "iopub.status.busy": "2023-05-23T10:03:29.318473Z",
     "iopub.status.idle": "2023-05-23T10:03:29.332578Z",
     "shell.execute_reply": "2023-05-23T10:03:29.331487Z"
    },
    "papermill": {
     "duration": 0.026026,
     "end_time": "2023-05-23T10:03:29.335419",
     "exception": false,
     "start_time": "2023-05-23T10:03:29.309393",
     "status": "completed"
    },
    "tags": []
   },
   "outputs": [],
   "source": [
    "X= dataset[['openness_1','conscientiousness_1','extroversion_1','agreeableness_1','neuroticism_1','anxietybasedperformancedeficits_1','exaggeratedsafetybehavior_1','hostilebehaviors_1','Gender_1','Age_1']]\n",
    "Y= dataset['violations_1']"
   ]
  },
  {
   "cell_type": "code",
   "execution_count": null,
   "id": "78e57e99",
   "metadata": {
    "execution": {
     "iopub.execute_input": "2023-05-23T10:03:29.353064Z",
     "iopub.status.busy": "2023-05-23T10:03:29.352659Z",
     "iopub.status.idle": "2023-05-23T10:03:29.367642Z",
     "shell.execute_reply": "2023-05-23T10:03:29.366223Z"
    },
    "papermill": {
     "duration": 0.026673,
     "end_time": "2023-05-23T10:03:29.370198",
     "exception": false,
     "start_time": "2023-05-23T10:03:29.343525",
     "status": "completed"
    },
    "tags": []
   },
   "outputs": [
    {
     "name": "stdout",
     "output_type": "stream",
     "text": [
      "     openness_1  conscientiousness_1  extroversion_1  agreeableness_1   \n",
      "0          4.33                 3.67            4.33             5.67  \\\n",
      "1          3.00                 4.67            4.00             3.00   \n",
      "2          3.00                 3.67            3.33             3.33   \n",
      "3          5.00                 5.00            5.00             7.00   \n",
      "4          1.33                 2.67            2.67             3.33   \n",
      "..          ...                  ...             ...              ...   \n",
      "196        3.67                 5.00            3.00             3.67   \n",
      "197        4.00                 3.67            4.33             3.67   \n",
      "198        1.67                 3.00            3.00             3.33   \n",
      "199        2.00                 3.33            3.33             3.33   \n",
      "200        3.00                 3.67            6.33             5.00   \n",
      "\n",
      "     neuroticism_1  anxietybasedperformancedeficits_1   \n",
      "0             3.67                               2.29  \\\n",
      "1             5.00                               2.43   \n",
      "2             3.00                               2.14   \n",
      "3             1.00                               3.43   \n",
      "4             2.67                               1.43   \n",
      "..             ...                                ...   \n",
      "196           5.33                               4.86   \n",
      "197           3.33                               3.29   \n",
      "198           3.00                               1.71   \n",
      "199           3.33                               2.14   \n",
      "200           2.67                               4.57   \n",
      "\n",
      "     exaggeratedsafetybehavior_1  hostilebehaviors_1  Gender_1  Age_1  \n",
      "0                           4.29                3.71         1      1  \n",
      "1                           5.14                6.14         2      2  \n",
      "2                           2.71                2.86         2      1  \n",
      "3                           3.57                4.43         1      1  \n",
      "4                           1.43                1.57         1      1  \n",
      "..                           ...                 ...       ...    ...  \n",
      "196                         4.00                4.14         1      1  \n",
      "197                         3.71                4.43         2      1  \n",
      "198                         1.86                2.57         2      1  \n",
      "199                         2.00                1.86         1      3  \n",
      "200                         3.71                3.57         1      1  \n",
      "\n",
      "[201 rows x 10 columns]\n",
      "0      2\n",
      "1      2\n",
      "2      1\n",
      "3      1\n",
      "4      1\n",
      "      ..\n",
      "196    2\n",
      "197    2\n",
      "198    2\n",
      "199    2\n",
      "200    2\n",
      "Name: violations_1, Length: 201, dtype: int64\n"
     ]
    }
   ],
   "source": [
    "print(X)\n",
    "print(Y)"
   ]
  },
  {
   "cell_type": "code",
   "execution_count": null,
   "id": "b2685b3d",
   "metadata": {
    "execution": {
     "iopub.execute_input": "2023-05-23T10:03:29.388053Z",
     "iopub.status.busy": "2023-05-23T10:03:29.387639Z",
     "iopub.status.idle": "2023-05-23T10:03:29.396990Z",
     "shell.execute_reply": "2023-05-23T10:03:29.395991Z"
    },
    "papermill": {
     "duration": 0.021,
     "end_time": "2023-05-23T10:03:29.399391",
     "exception": false,
     "start_time": "2023-05-23T10:03:29.378391",
     "status": "completed"
    },
    "tags": []
   },
   "outputs": [],
   "source": [
    "#Train Test Split\n",
    "X_train, X_test, Y_train, Y_test = train_test_split(X,Y, test_size = 0.2, stratify=Y, random_state=2)"
   ]
  },
  {
   "cell_type": "code",
   "execution_count": null,
   "id": "d3509b83",
   "metadata": {
    "execution": {
     "iopub.execute_input": "2023-05-23T10:03:29.417820Z",
     "iopub.status.busy": "2023-05-23T10:03:29.416598Z",
     "iopub.status.idle": "2023-05-23T10:03:29.422886Z",
     "shell.execute_reply": "2023-05-23T10:03:29.421494Z"
    },
    "papermill": {
     "duration": 0.017808,
     "end_time": "2023-05-23T10:03:29.425290",
     "exception": false,
     "start_time": "2023-05-23T10:03:29.407482",
     "status": "completed"
    },
    "tags": []
   },
   "outputs": [
    {
     "name": "stdout",
     "output_type": "stream",
     "text": [
      "(201, 10) (160, 10) (41, 10)\n"
     ]
    }
   ],
   "source": [
    "print(X.shape, X_train.shape, X_test.shape)"
   ]
  },
  {
   "cell_type": "markdown",
   "id": "4a80de56",
   "metadata": {
    "papermill": {
     "duration": 0.007727,
     "end_time": "2023-05-23T10:03:29.441164",
     "exception": false,
     "start_time": "2023-05-23T10:03:29.433437",
     "status": "completed"
    },
    "tags": []
   },
   "source": [
    "SVM Model"
   ]
  },
  {
   "cell_type": "code",
   "execution_count": null,
   "id": "6b1ccd37",
   "metadata": {
    "execution": {
     "iopub.execute_input": "2023-05-23T10:03:29.459768Z",
     "iopub.status.busy": "2023-05-23T10:03:29.459357Z",
     "iopub.status.idle": "2023-05-23T10:03:29.464230Z",
     "shell.execute_reply": "2023-05-23T10:03:29.462915Z"
    },
    "papermill": {
     "duration": 0.017227,
     "end_time": "2023-05-23T10:03:29.466552",
     "exception": false,
     "start_time": "2023-05-23T10:03:29.449325",
     "status": "completed"
    },
    "tags": []
   },
   "outputs": [],
   "source": [
    "#Training the model\n",
    "classifier= svm.SVC()"
   ]
  },
  {
   "cell_type": "code",
   "execution_count": null,
   "id": "e4f88503",
   "metadata": {
    "execution": {
     "iopub.execute_input": "2023-05-23T10:03:29.484925Z",
     "iopub.status.busy": "2023-05-23T10:03:29.484132Z",
     "iopub.status.idle": "2023-05-23T10:03:29.504121Z",
     "shell.execute_reply": "2023-05-23T10:03:29.502905Z"
    },
    "papermill": {
     "duration": 0.031785,
     "end_time": "2023-05-23T10:03:29.506489",
     "exception": false,
     "start_time": "2023-05-23T10:03:29.474704",
     "status": "completed"
    },
    "tags": []
   },
   "outputs": [
    {
     "data": {
      "text/html": [
       "<style>#sk-container-id-1 {color: black;background-color: white;}#sk-container-id-1 pre{padding: 0;}#sk-container-id-1 div.sk-toggleable {background-color: white;}#sk-container-id-1 label.sk-toggleable__label {cursor: pointer;display: block;width: 100%;margin-bottom: 0;padding: 0.3em;box-sizing: border-box;text-align: center;}#sk-container-id-1 label.sk-toggleable__label-arrow:before {content: \"▸\";float: left;margin-right: 0.25em;color: #696969;}#sk-container-id-1 label.sk-toggleable__label-arrow:hover:before {color: black;}#sk-container-id-1 div.sk-estimator:hover label.sk-toggleable__label-arrow:before {color: black;}#sk-container-id-1 div.sk-toggleable__content {max-height: 0;max-width: 0;overflow: hidden;text-align: left;background-color: #f0f8ff;}#sk-container-id-1 div.sk-toggleable__content pre {margin: 0.2em;color: black;border-radius: 0.25em;background-color: #f0f8ff;}#sk-container-id-1 input.sk-toggleable__control:checked~div.sk-toggleable__content {max-height: 200px;max-width: 100%;overflow: auto;}#sk-container-id-1 input.sk-toggleable__control:checked~label.sk-toggleable__label-arrow:before {content: \"▾\";}#sk-container-id-1 div.sk-estimator input.sk-toggleable__control:checked~label.sk-toggleable__label {background-color: #d4ebff;}#sk-container-id-1 div.sk-label input.sk-toggleable__control:checked~label.sk-toggleable__label {background-color: #d4ebff;}#sk-container-id-1 input.sk-hidden--visually {border: 0;clip: rect(1px 1px 1px 1px);clip: rect(1px, 1px, 1px, 1px);height: 1px;margin: -1px;overflow: hidden;padding: 0;position: absolute;width: 1px;}#sk-container-id-1 div.sk-estimator {font-family: monospace;background-color: #f0f8ff;border: 1px dotted black;border-radius: 0.25em;box-sizing: border-box;margin-bottom: 0.5em;}#sk-container-id-1 div.sk-estimator:hover {background-color: #d4ebff;}#sk-container-id-1 div.sk-parallel-item::after {content: \"\";width: 100%;border-bottom: 1px solid gray;flex-grow: 1;}#sk-container-id-1 div.sk-label:hover label.sk-toggleable__label {background-color: #d4ebff;}#sk-container-id-1 div.sk-serial::before {content: \"\";position: absolute;border-left: 1px solid gray;box-sizing: border-box;top: 0;bottom: 0;left: 50%;z-index: 0;}#sk-container-id-1 div.sk-serial {display: flex;flex-direction: column;align-items: center;background-color: white;padding-right: 0.2em;padding-left: 0.2em;position: relative;}#sk-container-id-1 div.sk-item {position: relative;z-index: 1;}#sk-container-id-1 div.sk-parallel {display: flex;align-items: stretch;justify-content: center;background-color: white;position: relative;}#sk-container-id-1 div.sk-item::before, #sk-container-id-1 div.sk-parallel-item::before {content: \"\";position: absolute;border-left: 1px solid gray;box-sizing: border-box;top: 0;bottom: 0;left: 50%;z-index: -1;}#sk-container-id-1 div.sk-parallel-item {display: flex;flex-direction: column;z-index: 1;position: relative;background-color: white;}#sk-container-id-1 div.sk-parallel-item:first-child::after {align-self: flex-end;width: 50%;}#sk-container-id-1 div.sk-parallel-item:last-child::after {align-self: flex-start;width: 50%;}#sk-container-id-1 div.sk-parallel-item:only-child::after {width: 0;}#sk-container-id-1 div.sk-dashed-wrapped {border: 1px dashed gray;margin: 0 0.4em 0.5em 0.4em;box-sizing: border-box;padding-bottom: 0.4em;background-color: white;}#sk-container-id-1 div.sk-label label {font-family: monospace;font-weight: bold;display: inline-block;line-height: 1.2em;}#sk-container-id-1 div.sk-label-container {text-align: center;}#sk-container-id-1 div.sk-container {/* jupyter's `normalize.less` sets `[hidden] { display: none; }` but bootstrap.min.css set `[hidden] { display: none !important; }` so we also need the `!important` here to be able to override the default hidden behavior on the sphinx rendered scikit-learn.org. See: https://github.com/scikit-learn/scikit-learn/issues/21755 */display: inline-block !important;position: relative;}#sk-container-id-1 div.sk-text-repr-fallback {display: none;}</style><div id=\"sk-container-id-1\" class=\"sk-top-container\"><div class=\"sk-text-repr-fallback\"><pre>SVC()</pre><b>In a Jupyter environment, please rerun this cell to show the HTML representation or trust the notebook. <br />On GitHub, the HTML representation is unable to render, please try loading this page with nbviewer.org.</b></div><div class=\"sk-container\" hidden><div class=\"sk-item\"><div class=\"sk-estimator sk-toggleable\"><input class=\"sk-toggleable__control sk-hidden--visually\" id=\"sk-estimator-id-1\" type=\"checkbox\" checked><label for=\"sk-estimator-id-1\" class=\"sk-toggleable__label sk-toggleable__label-arrow\">SVC</label><div class=\"sk-toggleable__content\"><pre>SVC()</pre></div></div></div></div></div>"
      ],
      "text/plain": [
       "SVC()"
      ]
     },
     "execution_count": 8,
     "metadata": {},
     "output_type": "execute_result"
    }
   ],
   "source": [
    "#training the support vector Machine Classifier\n",
    "classifier.fit(X_train, Y_train)"
   ]
  },
  {
   "cell_type": "code",
   "execution_count": null,
   "id": "c0d20bdb",
   "metadata": {
    "execution": {
     "iopub.execute_input": "2023-05-23T10:03:29.525307Z",
     "iopub.status.busy": "2023-05-23T10:03:29.524585Z",
     "iopub.status.idle": "2023-05-23T10:03:29.536003Z",
     "shell.execute_reply": "2023-05-23T10:03:29.534576Z"
    },
    "papermill": {
     "duration": 0.023607,
     "end_time": "2023-05-23T10:03:29.538446",
     "exception": false,
     "start_time": "2023-05-23T10:03:29.514839",
     "status": "completed"
    },
    "tags": []
   },
   "outputs": [
    {
     "name": "stdout",
     "output_type": "stream",
     "text": [
      "Accuracy score of the training data :  0.75625\n"
     ]
    }
   ],
   "source": [
    "#Model Evaluation\n",
    "\n",
    "# accuracy score on the training data\n",
    "X_train_prediction = classifier.predict(X_train)\n",
    "training_data_accuracy = accuracy_score(X_train_prediction, Y_train)\n",
    "print('Accuracy score of the training data : ', training_data_accuracy)"
   ]
  },
  {
   "cell_type": "code",
   "execution_count": null,
   "id": "f875e411",
   "metadata": {
    "execution": {
     "iopub.execute_input": "2023-05-23T10:03:29.557848Z",
     "iopub.status.busy": "2023-05-23T10:03:29.557477Z",
     "iopub.status.idle": "2023-05-23T10:03:29.566128Z",
     "shell.execute_reply": "2023-05-23T10:03:29.564991Z"
    },
    "papermill": {
     "duration": 0.021053,
     "end_time": "2023-05-23T10:03:29.568440",
     "exception": false,
     "start_time": "2023-05-23T10:03:29.547387",
     "status": "completed"
    },
    "tags": []
   },
   "outputs": [
    {
     "name": "stdout",
     "output_type": "stream",
     "text": [
      "Accuracy score of the test data :  0.5121951219512195\n"
     ]
    }
   ],
   "source": [
    "# accuracy score on the test data\n",
    "X_test_prediction = classifier.predict(X_test)\n",
    "test_data_accuracy = accuracy_score(X_test_prediction, Y_test)\n",
    "print('Accuracy score of the test data : ', test_data_accuracy)"
   ]
  },
  {
   "cell_type": "code",
   "execution_count": null,
   "id": "1a479ee0",
   "metadata": {
    "execution": {
     "iopub.execute_input": "2023-05-23T10:03:29.587407Z",
     "iopub.status.busy": "2023-05-23T10:03:29.586846Z",
     "iopub.status.idle": "2023-05-23T10:03:29.596248Z",
     "shell.execute_reply": "2023-05-23T10:03:29.595040Z"
    },
    "papermill": {
     "duration": 0.021537,
     "end_time": "2023-05-23T10:03:29.598394",
     "exception": false,
     "start_time": "2023-05-23T10:03:29.576857",
     "status": "completed"
    },
    "tags": []
   },
   "outputs": [
    {
     "name": "stdout",
     "output_type": "stream",
     "text": [
      "[[62 19]\n",
      " [20 59]]\n"
     ]
    }
   ],
   "source": [
    "from sklearn.metrics import confusion_matrix\n",
    "\n",
    "cm = confusion_matrix(Y_train,X_train_prediction)\n",
    "\n",
    "print(cm)"
   ]
  },
  {
   "cell_type": "code",
   "execution_count": null,
   "id": "5fe1f421",
   "metadata": {
    "execution": {
     "iopub.execute_input": "2023-05-23T10:03:29.617175Z",
     "iopub.status.busy": "2023-05-23T10:03:29.616716Z",
     "iopub.status.idle": "2023-05-23T10:03:29.837649Z",
     "shell.execute_reply": "2023-05-23T10:03:29.836276Z"
    },
    "papermill": {
     "duration": 0.233383,
     "end_time": "2023-05-23T10:03:29.840323",
     "exception": false,
     "start_time": "2023-05-23T10:03:29.606940",
     "status": "completed"
    },
    "tags": []
   },
   "outputs": [
    {
     "data": {
      "image/png": "[encoded data removed]",
      "text/plain": [
       "<Figure size 640x480 with 1 Axes>"
      ]
     },
     "metadata": {},
     "output_type": "display_data"
    }
   ],
   "source": [
    "from mlxtend.plotting import plot_confusion_matrix,plot_decision_regions\n",
    "plot_confusion_matrix(cm)\n",
    "plt.show()"
   ]
  },
  {
   "cell_type": "code",
   "execution_count": null,
   "id": "92b038a1",
   "metadata": {
    "execution": {
     "iopub.execute_input": "2023-05-23T10:03:29.871743Z",
     "iopub.status.busy": "2023-05-23T10:03:29.870606Z",
     "iopub.status.idle": "2023-05-23T10:03:29.880256Z",
     "shell.execute_reply": "2023-05-23T10:03:29.879031Z"
    },
    "papermill": {
     "duration": 0.028188,
     "end_time": "2023-05-23T10:03:29.882432",
     "exception": false,
     "start_time": "2023-05-23T10:03:29.854244",
     "status": "completed"
    },
    "tags": []
   },
   "outputs": [
    {
     "name": "stdout",
     "output_type": "stream",
     "text": [
      "[[12  9]\n",
      " [11  9]]\n"
     ]
    }
   ],
   "source": [
    "from sklearn.metrics import confusion_matrix\n",
    "\n",
    "cm = confusion_matrix(Y_test,X_test_prediction)\n",
    "\n",
    "print(cm)"
   ]
  },
  {
   "cell_type": "code",
   "execution_count": null,
   "id": "51f65822",
   "metadata": {
    "execution": {
     "iopub.execute_input": "2023-05-23T10:03:29.902447Z",
     "iopub.status.busy": "2023-05-23T10:03:29.901674Z",
     "iopub.status.idle": "2023-05-23T10:03:30.041219Z",
     "shell.execute_reply": "2023-05-23T10:03:30.039633Z"
    },
    "papermill": {
     "duration": 0.15382,
     "end_time": "2023-05-23T10:03:30.045082",
     "exception": false,
     "start_time": "2023-05-23T10:03:29.891262",
     "status": "completed"
    },
    "tags": []
   },
   "outputs": [
    {
     "data": {
      "image/png": "[encoded data removed]",
      "text/plain": [
       "<Figure size 640x480 with 1 Axes>"
      ]
     },
     "metadata": {},
     "output_type": "display_data"
    }
   ],
   "source": [
    "from mlxtend.plotting import plot_confusion_matrix,plot_decision_regions\n",
    "plot_confusion_matrix(cm)\n",
    "plt.show()"
   ]
  },
  {
   "cell_type": "markdown",
   "id": "988c657e",
   "metadata": {
    "papermill": {
     "duration": 0.014128,
     "end_time": "2023-05-23T10:03:30.073916",
     "exception": false,
     "start_time": "2023-05-23T10:03:30.059788",
     "status": "completed"
    },
    "tags": []
   },
   "source": [
    "random forest"
   ]
  },
  {
   "cell_type": "code",
   "execution_count": null,
   "id": "c03a59b0",
   "metadata": {
    "execution": {
     "iopub.execute_input": "2023-05-23T10:03:30.100998Z",
     "iopub.status.busy": "2023-05-23T10:03:30.100575Z",
     "iopub.status.idle": "2023-05-23T10:03:30.104659Z",
     "shell.execute_reply": "2023-05-23T10:03:30.103815Z"
    },
    "papermill": {
     "duration": 0.017704,
     "end_time": "2023-05-23T10:03:30.106618",
     "exception": false,
     "start_time": "2023-05-23T10:03:30.088914",
     "status": "completed"
    },
    "tags": []
   },
   "outputs": [],
   "source": [
    "rf_Model=RandomForestClassifier(oob_score=True)"
   ]
  },
  {
   "cell_type": "code",
   "execution_count": null,
   "id": "bf876077",
   "metadata": {
    "execution": {
     "iopub.execute_input": "2023-05-23T10:03:30.126434Z",
     "iopub.status.busy": "2023-05-23T10:03:30.126002Z",
     "iopub.status.idle": "2023-05-23T10:03:30.358252Z",
     "shell.execute_reply": "2023-05-23T10:03:30.357175Z"
    },
    "papermill": {
     "duration": 0.245215,
     "end_time": "2023-05-23T10:03:30.360911",
     "exception": false,
     "start_time": "2023-05-23T10:03:30.115696",
     "status": "completed"
    },
    "tags": []
   },
   "outputs": [
    {
     "data": {
      "text/html": [
       "<style>#sk-container-id-2 {color: black;background-color: white;}#sk-container-id-2 pre{padding: 0;}#sk-container-id-2 div.sk-toggleable {background-color: white;}#sk-container-id-2 label.sk-toggleable__label {cursor: pointer;display: block;width: 100%;margin-bottom: 0;padding: 0.3em;box-sizing: border-box;text-align: center;}#sk-container-id-2 label.sk-toggleable__label-arrow:before {content: \"▸\";float: left;margin-right: 0.25em;color: #696969;}#sk-container-id-2 label.sk-toggleable__label-arrow:hover:before {color: black;}#sk-container-id-2 div.sk-estimator:hover label.sk-toggleable__label-arrow:before {color: black;}#sk-container-id-2 div.sk-toggleable__content {max-height: 0;max-width: 0;overflow: hidden;text-align: left;background-color: #f0f8ff;}#sk-container-id-2 div.sk-toggleable__content pre {margin: 0.2em;color: black;border-radius: 0.25em;background-color: #f0f8ff;}#sk-container-id-2 input.sk-toggleable__control:checked~div.sk-toggleable__content {max-height: 200px;max-width: 100%;overflow: auto;}#sk-container-id-2 input.sk-toggleable__control:checked~label.sk-toggleable__label-arrow:before {content: \"▾\";}#sk-container-id-2 div.sk-estimator input.sk-toggleable__control:checked~label.sk-toggleable__label {background-color: #d4ebff;}#sk-container-id-2 div.sk-label input.sk-toggleable__control:checked~label.sk-toggleable__label {background-color: #d4ebff;}#sk-container-id-2 input.sk-hidden--visually {border: 0;clip: rect(1px 1px 1px 1px);clip: rect(1px, 1px, 1px, 1px);height: 1px;margin: -1px;overflow: hidden;padding: 0;position: absolute;width: 1px;}#sk-container-id-2 div.sk-estimator {font-family: monospace;background-color: #f0f8ff;border: 1px dotted black;border-radius: 0.25em;box-sizing: border-box;margin-bottom: 0.5em;}#sk-container-id-2 div.sk-estimator:hover {background-color: #d4ebff;}#sk-container-id-2 div.sk-parallel-item::after {content: \"\";width: 100%;border-bottom: 1px solid gray;flex-grow: 1;}#sk-container-id-2 div.sk-label:hover label.sk-toggleable__label {background-color: #d4ebff;}#sk-container-id-2 div.sk-serial::before {content: \"\";position: absolute;border-left: 1px solid gray;box-sizing: border-box;top: 0;bottom: 0;left: 50%;z-index: 0;}#sk-container-id-2 div.sk-serial {display: flex;flex-direction: column;align-items: center;background-color: white;padding-right: 0.2em;padding-left: 0.2em;position: relative;}#sk-container-id-2 div.sk-item {position: relative;z-index: 1;}#sk-container-id-2 div.sk-parallel {display: flex;align-items: stretch;justify-content: center;background-color: white;position: relative;}#sk-container-id-2 div.sk-item::before, #sk-container-id-2 div.sk-parallel-item::before {content: \"\";position: absolute;border-left: 1px solid gray;box-sizing: border-box;top: 0;bottom: 0;left: 50%;z-index: -1;}#sk-container-id-2 div.sk-parallel-item {display: flex;flex-direction: column;z-index: 1;position: relative;background-color: white;}#sk-container-id-2 div.sk-parallel-item:first-child::after {align-self: flex-end;width: 50%;}#sk-container-id-2 div.sk-parallel-item:last-child::after {align-self: flex-start;width: 50%;}#sk-container-id-2 div.sk-parallel-item:only-child::after {width: 0;}#sk-container-id-2 div.sk-dashed-wrapped {border: 1px dashed gray;margin: 0 0.4em 0.5em 0.4em;box-sizing: border-box;padding-bottom: 0.4em;background-color: white;}#sk-container-id-2 div.sk-label label {font-family: monospace;font-weight: bold;display: inline-block;line-height: 1.2em;}#sk-container-id-2 div.sk-label-container {text-align: center;}#sk-container-id-2 div.sk-container {/* jupyter's `normalize.less` sets `[hidden] { display: none; }` but bootstrap.min.css set `[hidden] { display: none !important; }` so we also need the `!important` here to be able to override the default hidden behavior on the sphinx rendered scikit-learn.org. See: https://github.com/scikit-learn/scikit-learn/issues/21755 */display: inline-block !important;position: relative;}#sk-container-id-2 div.sk-text-repr-fallback {display: none;}</style><div id=\"sk-container-id-2\" class=\"sk-top-container\"><div class=\"sk-text-repr-fallback\"><pre>RandomForestClassifier(oob_score=True)</pre><b>In a Jupyter environment, please rerun this cell to show the HTML representation or trust the notebook. <br />On GitHub, the HTML representation is unable to render, please try loading this page with nbviewer.org.</b></div><div class=\"sk-container\" hidden><div class=\"sk-item\"><div class=\"sk-estimator sk-toggleable\"><input class=\"sk-toggleable__control sk-hidden--visually\" id=\"sk-estimator-id-2\" type=\"checkbox\" checked><label for=\"sk-estimator-id-2\" class=\"sk-toggleable__label sk-toggleable__label-arrow\">RandomForestClassifier</label><div class=\"sk-toggleable__content\"><pre>RandomForestClassifier(oob_score=True)</pre></div></div></div></div></div>"
      ],
      "text/plain": [
       "RandomForestClassifier(oob_score=True)"
      ]
     },
     "execution_count": 16,
     "metadata": {},
     "output_type": "execute_result"
    }
   ],
   "source": [
    "rf_Model.fit(X_train,Y_train)"
   ]
  },
  {
   "cell_type": "code",
   "execution_count": null,
   "id": "1397f152",
   "metadata": {
    "execution": {
     "iopub.execute_input": "2023-05-23T10:03:30.381466Z",
     "iopub.status.busy": "2023-05-23T10:03:30.381091Z",
     "iopub.status.idle": "2023-05-23T10:03:30.388085Z",
     "shell.execute_reply": "2023-05-23T10:03:30.387044Z"
    },
    "papermill": {
     "duration": 0.020013,
     "end_time": "2023-05-23T10:03:30.390384",
     "exception": false,
     "start_time": "2023-05-23T10:03:30.370371",
     "status": "completed"
    },
    "tags": []
   },
   "outputs": [
    {
     "data": {
      "text/plain": [
       "0.58125"
      ]
     },
     "execution_count": 17,
     "metadata": {},
     "output_type": "execute_result"
    }
   ],
   "source": [
    "rf_Model.oob_score_"
   ]
  },
  {
   "cell_type": "code",
   "execution_count": null,
   "id": "b492d2fc",
   "metadata": {
    "execution": {
     "iopub.execute_input": "2023-05-23T10:03:30.412060Z",
     "iopub.status.busy": "2023-05-23T10:03:30.411653Z",
     "iopub.status.idle": "2023-05-23T10:03:30.448188Z",
     "shell.execute_reply": "2023-05-23T10:03:30.446636Z"
    },
    "papermill": {
     "duration": 0.050295,
     "end_time": "2023-05-23T10:03:30.450771",
     "exception": false,
     "start_time": "2023-05-23T10:03:30.400476",
     "status": "completed"
    },
    "tags": []
   },
   "outputs": [
    {
     "name": "stdout",
     "output_type": "stream",
     "text": [
      "Train Accuracy - : 0.994\n",
      "Test Accuracy - : 0.537\n"
     ]
    }
   ],
   "source": [
    "print (f'Train Accuracy - : {rf_Model.score(X_train,Y_train):.3f}')\n",
    "print (f'Test Accuracy - : {rf_Model.score(X_test,Y_test):.3f}')"
   ]
  },
  {
   "cell_type": "code",
   "execution_count": null,
   "id": "55f1ca32",
   "metadata": {
    "execution": {
     "iopub.execute_input": "2023-05-23T10:03:30.471891Z",
     "iopub.status.busy": "2023-05-23T10:03:30.471524Z",
     "iopub.status.idle": "2023-05-23T10:03:30.495275Z",
     "shell.execute_reply": "2023-05-23T10:03:30.493901Z"
    },
    "papermill": {
     "duration": 0.037241,
     "end_time": "2023-05-23T10:03:30.497782",
     "exception": false,
     "start_time": "2023-05-23T10:03:30.460541",
     "status": "completed"
    },
    "tags": []
   },
   "outputs": [
    {
     "name": "stdout",
     "output_type": "stream",
     "text": [
      "[2 1 1 2 1 2 2 2 1 1 2 2 1 2 2 1 1 1 1 2 2 1 2 1 2 2 1 1 1 2 1 1 2 2 2 1 2\n",
      " 1 1 2 2 2 1 1 2 2 2 1 2 2 1 1 2 1 2 1 1 1 2 2 1 2 1 1 1 2 1 2 2 1 1 2 2 1\n",
      " 1 2 2 1 1 2 2 1 2 2 1 1 1 2 1 2 1 2 1 2 1 1 2 2 2 1 2 1 2 1 1 2 1 2 1 1 1\n",
      " 1 2 1 1 1 2 2 2 1 1 1 2 2 1 1 1 1 2 2 2 2 1 1 1 2 1 2 2 1 1 2 1 2 2 2 1 2\n",
      " 2 1 2 2 1 2 1 2 1 1 2 1]\n"
     ]
    }
   ],
   "source": [
    "y_pred = rf_Model.predict(X_train)\n",
    "print(y_pred)"
   ]
  },
  {
   "cell_type": "code",
   "execution_count": null,
   "id": "6b05245f",
   "metadata": {
    "execution": {
     "iopub.execute_input": "2023-05-23T10:03:30.518846Z",
     "iopub.status.busy": "2023-05-23T10:03:30.518458Z",
     "iopub.status.idle": "2023-05-23T10:03:30.527231Z",
     "shell.execute_reply": "2023-05-23T10:03:30.525599Z"
    },
    "papermill": {
     "duration": 0.023354,
     "end_time": "2023-05-23T10:03:30.530691",
     "exception": false,
     "start_time": "2023-05-23T10:03:30.507337",
     "status": "completed"
    },
    "tags": []
   },
   "outputs": [
    {
     "name": "stdout",
     "output_type": "stream",
     "text": [
      "[[81  0]\n",
      " [ 1 78]]\n"
     ]
    }
   ],
   "source": [
    "from sklearn.metrics import confusion_matrix\n",
    "\n",
    "cm = confusion_matrix(Y_train,y_pred)\n",
    "\n",
    "print(cm)"
   ]
  },
  {
   "cell_type": "code",
   "execution_count": null,
   "id": "22541d2b",
   "metadata": {
    "execution": {
     "iopub.execute_input": "2023-05-23T10:03:30.552458Z",
     "iopub.status.busy": "2023-05-23T10:03:30.552052Z",
     "iopub.status.idle": "2023-05-23T10:03:30.691637Z",
     "shell.execute_reply": "2023-05-23T10:03:30.690231Z"
    },
    "papermill": {
     "duration": 0.153974,
     "end_time": "2023-05-23T10:03:30.694675",
     "exception": false,
     "start_time": "2023-05-23T10:03:30.540701",
     "status": "completed"
    },
    "tags": []
   },
   "outputs": [
    {
     "data": {
      "image/png": "[encoded data removed]",
      "text/plain": [
       "<Figure size 640x480 with 1 Axes>"
      ]
     },
     "metadata": {},
     "output_type": "display_data"
    }
   ],
   "source": [
    "from mlxtend.plotting import plot_confusion_matrix,plot_decision_regions\n",
    "plot_confusion_matrix(cm)\n",
    "plt.show()"
   ]
  },
  {
   "cell_type": "code",
   "execution_count": null,
   "id": "8f06e76d",
   "metadata": {
    "execution": {
     "iopub.execute_input": "2023-05-23T10:03:30.729178Z",
     "iopub.status.busy": "2023-05-23T10:03:30.727839Z",
     "iopub.status.idle": "2023-05-23T10:03:30.753708Z",
     "shell.execute_reply": "2023-05-23T10:03:30.752651Z"
    },
    "papermill": {
     "duration": 0.045515,
     "end_time": "2023-05-23T10:03:30.755888",
     "exception": false,
     "start_time": "2023-05-23T10:03:30.710373",
     "status": "completed"
    },
    "tags": []
   },
   "outputs": [
    {
     "name": "stdout",
     "output_type": "stream",
     "text": [
      "[1 1 1 1 1 2 1 1 1 2 1 1 1 2 1 1 1 2 2 2 2 2 1 1 1 1 2 2 1 1 2 2 2 2 1 2 1\n",
      " 1 1 1 1]\n"
     ]
    }
   ],
   "source": [
    "y_predt = rf_Model.predict(X_test)\n",
    "print(y_predt)"
   ]
  },
  {
   "cell_type": "code",
   "execution_count": null,
   "id": "4c8404e9",
   "metadata": {
    "execution": {
     "iopub.execute_input": "2023-05-23T10:03:30.779284Z",
     "iopub.status.busy": "2023-05-23T10:03:30.778181Z",
     "iopub.status.idle": "2023-05-23T10:03:30.785702Z",
     "shell.execute_reply": "2023-05-23T10:03:30.784777Z"
    },
    "papermill": {
     "duration": 0.021795,
     "end_time": "2023-05-23T10:03:30.788089",
     "exception": false,
     "start_time": "2023-05-23T10:03:30.766294",
     "status": "completed"
    },
    "tags": []
   },
   "outputs": [
    {
     "name": "stdout",
     "output_type": "stream",
     "text": [
      "[[14  7]\n",
      " [12  8]]\n"
     ]
    }
   ],
   "source": [
    "from sklearn.metrics import confusion_matrix\n",
    "\n",
    "cm = confusion_matrix(Y_test,y_predt)\n",
    "\n",
    "print(cm)"
   ]
  },
  {
   "cell_type": "code",
   "execution_count": null,
   "id": "0c695a4f",
   "metadata": {
    "execution": {
     "iopub.execute_input": "2023-05-23T10:03:30.810898Z",
     "iopub.status.busy": "2023-05-23T10:03:30.810505Z",
     "iopub.status.idle": "2023-05-23T10:03:30.949080Z",
     "shell.execute_reply": "2023-05-23T10:03:30.947534Z"
    },
    "papermill": {
     "duration": 0.153797,
     "end_time": "2023-05-23T10:03:30.952367",
     "exception": false,
     "start_time": "2023-05-23T10:03:30.798570",
     "status": "completed"
    },
    "tags": []
   },
   "outputs": [
    {
     "data": {
      "image/png": "[encoded data removed]",
      "text/plain": [
       "<Figure size 640x480 with 1 Axes>"
      ]
     },
     "metadata": {},
     "output_type": "display_data"
    }
   ],
   "source": [
    "from mlxtend.plotting import plot_confusion_matrix,plot_decision_regions\n",
    "plot_confusion_matrix(cm)\n",
    "plt.show()"
   ]
  },
  {
   "cell_type": "markdown",
   "id": "e1008939",
   "metadata": {
    "papermill": {
     "duration": 0.016405,
     "end_time": "2023-05-23T10:03:30.986178",
     "exception": false,
     "start_time": "2023-05-23T10:03:30.969773",
     "status": "completed"
    },
    "tags": []
   },
   "source": [
    "ANN"
   ]
  },
  {
   "cell_type": "code",
   "execution_count": null,
   "id": "bc080506",
   "metadata": {
    "execution": {
     "iopub.execute_input": "2023-05-23T10:03:31.016820Z",
     "iopub.status.busy": "2023-05-23T10:03:31.016135Z",
     "iopub.status.idle": "2023-05-23T10:03:39.466208Z",
     "shell.execute_reply": "2023-05-23T10:03:39.464864Z"
    },
    "papermill": {
     "duration": 8.465911,
     "end_time": "2023-05-23T10:03:39.468885",
     "exception": false,
     "start_time": "2023-05-23T10:03:31.002974",
     "status": "completed"
    },
    "tags": []
   },
   "outputs": [],
   "source": [
    "from keras import callbacks\n",
    "import tensorflow \n",
    "\n",
    "from tensorflow import keras\n",
    "from keras.models import Sequential\n",
    "from keras.utils import to_categorical\n",
    "from keras.layers import Dense, BatchNormalization, Dropout, LSTM\n",
    "from keras.optimizers import SGD"
   ]
  },
  {
   "cell_type": "code",
   "execution_count": null,
   "id": "24b255ef",
   "metadata": {
    "execution": {
     "iopub.execute_input": "2023-05-23T10:03:39.492503Z",
     "iopub.status.busy": "2023-05-23T10:03:39.490765Z",
     "iopub.status.idle": "2023-05-23T10:03:39.497794Z",
     "shell.execute_reply": "2023-05-23T10:03:39.496967Z"
    },
    "papermill": {
     "duration": 0.020747,
     "end_time": "2023-05-23T10:03:39.500031",
     "exception": false,
     "start_time": "2023-05-23T10:03:39.479284",
     "status": "completed"
    },
    "tags": []
   },
   "outputs": [],
   "source": [
    "X = dataset.iloc[:, :-1].values\n",
    "y = dataset.iloc[:, -1].values"
   ]
  },
  {
   "cell_type": "code",
   "execution_count": null,
   "id": "7a538c73",
   "metadata": {
    "execution": {
     "iopub.execute_input": "2023-05-23T10:03:39.522605Z",
     "iopub.status.busy": "2023-05-23T10:03:39.521472Z",
     "iopub.status.idle": "2023-05-23T10:03:39.533370Z",
     "shell.execute_reply": "2023-05-23T10:03:39.532439Z"
    },
    "papermill": {
     "duration": 0.025657,
     "end_time": "2023-05-23T10:03:39.535793",
     "exception": false,
     "start_time": "2023-05-23T10:03:39.510136",
     "status": "completed"
    },
    "tags": []
   },
   "outputs": [],
   "source": [
    "scaler = StandardScaler()\n",
    "X_train = scaler.fit_transform(X_train)\n",
    "X_test = scaler.transform(X_test)"
   ]
  },
  {
   "cell_type": "code",
   "execution_count": null,
   "id": "ad5bf8c1",
   "metadata": {
    "execution": {
     "iopub.execute_input": "2023-05-23T10:03:39.557667Z",
     "iopub.status.busy": "2023-05-23T10:03:39.557306Z",
     "iopub.status.idle": "2023-05-23T10:03:39.982548Z",
     "shell.execute_reply": "2023-05-23T10:03:39.981421Z"
    },
    "papermill": {
     "duration": 0.439365,
     "end_time": "2023-05-23T10:03:39.985165",
     "exception": false,
     "start_time": "2023-05-23T10:03:39.545800",
     "status": "completed"
    },
    "tags": []
   },
   "outputs": [],
   "source": [
    "model = keras.Sequential([\n",
    "    keras.layers.Dense(64, activation='relu', input_shape=(X_train.shape[1],)),\n",
    "    keras.layers.Dense(64, activation='relu'),\n",
    "    keras.layers.Dense(1, activation='sigmoid')\n",
    "])"
   ]
  },
  {
   "cell_type": "code",
   "execution_count": null,
   "id": "e77ccf1e",
   "metadata": {
    "execution": {
     "iopub.execute_input": "2023-05-23T10:03:40.008021Z",
     "iopub.status.busy": "2023-05-23T10:03:40.006710Z",
     "iopub.status.idle": "2023-05-23T10:03:40.028541Z",
     "shell.execute_reply": "2023-05-23T10:03:40.027261Z"
    },
    "papermill": {
     "duration": 0.035924,
     "end_time": "2023-05-23T10:03:40.031206",
     "exception": false,
     "start_time": "2023-05-23T10:03:39.995282",
     "status": "completed"
    },
    "tags": []
   },
   "outputs": [],
   "source": [
    "model.compile(optimizer='adam', loss='binary_crossentropy', metrics=['accuracy'])\n",
    "\n"
   ]
  },
  {
   "cell_type": "code",
   "execution_count": 30,
   "id": "44c90fc2",
   "metadata": {
    "execution": {
     "iopub.execute_input": "2023-05-23T10:03:40.053808Z",
     "iopub.status.busy": "2023-05-23T10:03:40.053446Z",
     "iopub.status.idle": "2023-05-23T10:03:41.389332Z",
     "shell.execute_reply": "2023-05-23T10:03:41.388185Z"
    },
    "papermill": {
     "duration": 1.35003,
     "end_time": "2023-05-23T10:03:41.391690",
     "exception": false,
     "start_time": "2023-05-23T10:03:40.041660",
     "status": "completed"
    },
    "tags": []
   },
   "outputs": [
    {
     "name": "stdout",
     "output_type": "stream",
     "text": [
      "Epoch 1/10\n",
      "5/5 [==============================] - 1s 4ms/step - loss: 0.5057 - accuracy: 0.3438\n",
      "Epoch 2/10\n",
      "5/5 [==============================] - 0s 0s/step - loss: 0.1840 - accuracy: 0.4875\n",
      "Epoch 3/10\n",
      "5/5 [==============================] - 0s 4ms/step - loss: -0.1254 - accuracy: 0.5063\n",
      "Epoch 4/10\n",
      "5/5 [==============================] - 0s 4ms/step - loss: -0.4192 - accuracy: 0.5063\n",
      "Epoch 5/10\n",
      "5/5 [==============================] - 0s 0s/step - loss: -0.7200 - accuracy: 0.5063\n",
      "Epoch 6/10\n",
      "5/5 [==============================] - 0s 4ms/step - loss: -1.0522 - accuracy: 0.5063\n",
      "Epoch 7/10\n",
      "5/5 [==============================] - 0s 5ms/step - loss: -1.3981 - accuracy: 0.5063\n",
      "Epoch 8/10\n",
      "5/5 [==============================] - 0s 3ms/step - loss: -1.7862 - accuracy: 0.5063\n",
      "Epoch 9/10\n",
      "5/5 [==============================] - 0s 4ms/step - loss: -2.2333 - accuracy: 0.5063\n",
      "Epoch 10/10\n",
      "5/5 [==============================] - 0s 4ms/step - loss: -2.7302 - accuracy: 0.5063\n"
     ]
    },
    {
     "data": {
      "text/plain": [
       "<keras.callbacks.History at 0x149941d1d90>"
      ]
     },
     "execution_count": 30,
     "metadata": {},
     "output_type": "execute_result"
    }
   ],
   "source": [
    "# Train the model\n",
    "model.fit(X_train, Y_train, epochs=10, batch_size=32)\n",
    "\n"
   ]
  },
  {
   "cell_type": "code",
   "execution_count": 31,
   "id": "1fba0722",
   "metadata": {
    "execution": {
     "iopub.execute_input": "2023-05-23T10:03:41.417847Z",
     "iopub.status.busy": "2023-05-23T10:03:41.417427Z",
     "iopub.status.idle": "2023-05-23T10:03:41.656967Z",
     "shell.execute_reply": "2023-05-23T10:03:41.655830Z"
    },
    "papermill": {
     "duration": 0.255665,
     "end_time": "2023-05-23T10:03:41.659548",
     "exception": false,
     "start_time": "2023-05-23T10:03:41.403883",
     "status": "completed"
    },
    "tags": []
   },
   "outputs": [
    {
     "name": "stdout",
     "output_type": "stream",
     "text": [
      "2/2 [==============================] - 0s 16ms/step - loss: -2.3976 - accuracy: 0.5122\n",
      "Test Loss: -2.397599458694458\n",
      "Test Accuracy: 0.5121951103210449\n"
     ]
    }
   ],
   "source": [
    "# Evaluate the model\n",
    "loss, accuracy = model.evaluate(X_test, Y_test)\n",
    "print('Test Loss:', loss)\n",
    "print('Test Accuracy:', accuracy)"
   ]
  },
  {
   "cell_type": "code",
   "execution_count": 32,
   "id": "7f57b4dd",
   "metadata": {
    "execution": {
     "iopub.execute_input": "2023-05-23T10:03:41.685980Z",
     "iopub.status.busy": "2023-05-23T10:03:41.685548Z",
     "iopub.status.idle": "2023-05-23T10:03:41.833469Z",
     "shell.execute_reply": "2023-05-23T10:03:41.832399Z"
    },
    "papermill": {
     "duration": 0.163443,
     "end_time": "2023-05-23T10:03:41.835490",
     "exception": false,
     "start_time": "2023-05-23T10:03:41.672047",
     "status": "completed"
    },
    "tags": []
   },
   "outputs": [],
   "source": [
    "# input_data = (3,3.67,6.33,5,2.67,4.57,3.71,3.57,1,1)\n",
    "\n",
    "# # changing the input data to a numpy array\n",
    "# input_data_as_numpy_array = np.asarray(input_data)\n",
    "\n",
    "# # reshape the data as we are predicting the label for only one instance\n",
    "\n",
    "# input_data_reshaped = input_data_as_numpy_array.reshape(1,-1)\n",
    "\n",
    "# prediction = model.predict(input_data_reshaped)\n",
    "# print(prediction)\n",
    "\n",
    "# if(prediction == 1).any():\n",
    "#   print('The person does not violates')\n",
    "\n",
    "# else:\n",
    "#   print('The person violate')"
   ]
  },
  {
   "cell_type": "code",
   "execution_count": 33,
   "id": "4e629b17",
   "metadata": {},
   "outputs": [
    {
     "name": "stdout",
     "output_type": "stream",
     "text": [
      " * Serving Flask app '__main__'\n",
      " * Debug mode: off\n"
     ]
    },
    {
     "name": "stderr",
     "output_type": "stream",
     "text": [
      "WARNING: This is a development server. Do not use it in a production deployment. Use a production WSGI server instead.\n",
      " * Running on http://127.0.0.1:5000\n",
      "Press CTRL+C to quit\n",
      "C:\\python\\python 3.9.1\\lib\\site-packages\\sklearn\\base.py:439: UserWarning: X does not have valid feature names, but RandomForestClassifier was fitted with feature names\n",
      "  warnings.warn(\n",
      "127.0.0.1 - - [23/May/2023 23:22:27] \"POST /predict HTTP/1.1\" 200 -\n"
     ]
    },
    {
     "name": "stdout",
     "output_type": "stream",
     "text": [
      "[2]\n",
      "The person violate\n"
     ]
    }
   ],
   "source": [
    "#Importing essential libraries\n",
    "from flask import Flask, render_template, request\n",
    "import pickle\n",
    "import numpy as np\n",
    "\n",
    "# from sklearn.preprocessing import StandardScaler\n",
    "# from sklearn.metrics import accuracy_score, classification_report\n",
    "\n",
    "\n",
    "# Load the Random Forest CLassifier model\n",
    "# filename = 'heart-disease-prediction-knn-model.pkl'\n",
    "# model = pickle.load(open(filename, 'rb'))\n",
    "\n",
    "app = Flask(__name__,template_folder=r'C:\\Users\\Olivia\\Downloads\\Project html\\templates')\n",
    "@app.route('/')\n",
    "def home():\n",
    "    return render_template('interface.html')\n",
    "\n",
    "\n",
    "@app.route('/predict', methods=['POST','GET'])\n",
    "def predict():\n",
    "    if request.method == 'POST':\n",
    "\n",
    "        openness_1 = float(request.form['openness'] )\n",
    "        conscientiousness_1 = float(request.form['conscientiousness'])\n",
    "        extroversion_1 = float(request.form['extroversion'])\n",
    "        agreeableness_1 = float(request.form['agreeableness'])\n",
    "        neuroticism_1 = float(request.form['neuroticism'])\n",
    "        anxietybasedperformancedeficits_1 = float(request.form['anxietybasedperformancedeficits'])\n",
    "        exaggeratedsafetybehavior_1 = float(request.form['exaggeratedsafetybehavior'])\n",
    "        hostilebehaviors_1 = float(request.form['hostilebehaviors'])\n",
    "        Gender_1 = int(request.form['Gender'])\n",
    "        Age_1 = int(request.form['Age'])\n",
    "       \n",
    "        \n",
    "        data = np.array([[openness_1,conscientiousness_1,extroversion_1,agreeableness_1,neuroticism_1,anxietybasedperformancedeficits_1,exaggeratedsafetybehavior_1,hostilebehaviors_1,Gender_1,Age_1]])\n",
    "        # input_data = (3,3.67,6.33,5,2.67,4.57,3.71,3.57,1,1)\n",
    "\n",
    "        # changing the input data to a numpy array\n",
    "        # input_data_as_numpy_array = np.asarray(data)\n",
    "\n",
    "        # reshape the data as we are predicting the label for only one instance\n",
    "\n",
    "        # input_data_reshaped = input_data_as_numpy_array.reshape(1,-1)\n",
    "\n",
    "        prediction = rf_Model.predict(data)\n",
    "        print(prediction)\n",
    "\n",
    "        if(prediction == 1).any():\n",
    "          print('The person does not violates')\n",
    "\n",
    "        else:\n",
    "          print('The person violate')\n",
    "\n",
    "        #         my_prediction = rf_Model.predict(data)\n",
    "        #         print(my_prediction)\n",
    "\n",
    "        #         if(prediction == 1):\n",
    "        #           print('The person does not violates')\n",
    "        #         elif(prediction == 2):\n",
    "        #           print('The person may violate')\n",
    "        #         else:\n",
    "        #           print('The person violate')\n",
    "                \n",
    "        #         print('\\nClassification Report\\n', classification_report(y_test, data))\n",
    "                \n",
    "        return render_template('Interface2.html', prediction = prediction)\n",
    "        # return 'None'\n",
    "        # #\n",
    "  \n",
    "if __name__ == '__main__':\n",
    "    app.run(debug=False)"
   ]
  }
 ],
 "metadata": {
  "kernelspec": {
   "display_name": "Python 3",
   "language": "python",
   "name": "python3"
  },
  "language_info": {
   "codemirror_mode": {
    "name": "ipython",
    "version": 3
   },
   "file_extension": ".py",
   "mimetype": "text/x-python",
   "name": "python",
   "nbconvert_exporter": "python",
   "pygments_lexer": "ipython3",
   "version": "3.9.1"
  },
  "papermill": {
   "default_parameters": {},
   "duration": 28.717076,
   "end_time": "2023-05-23T10:03:44.633549",
   "environment_variables": {},
   "exception": null,
   "input_path": "__notebook__.ipynb",
   "output_path": "__notebook__.ipynb",
   "parameters": {},
   "start_time": "2023-05-23T10:03:15.916473",
   "version": "2.4.0"
  }
 },
 "nbformat": 4,
 "nbformat_minor": 5
}
